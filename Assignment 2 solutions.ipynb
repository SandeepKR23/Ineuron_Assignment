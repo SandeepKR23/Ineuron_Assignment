{
 "cells": [
  {
   "cell_type": "markdown",
   "metadata": {},
   "source": [
    "# Task 1:"
   ]
  },
  {
   "cell_type": "markdown",
   "metadata": {},
   "source": [
    "1.1  Write a Python Program to implement your own myreduce() function which works exactly like\n",
    "Python's built-in function reduce()"
   ]
  },
  {
   "cell_type": "code",
   "execution_count": 8,
   "metadata": {},
   "outputs": [
    {
     "name": "stdout",
     "output_type": "stream",
     "text": [
      "[1, 22, 5, 3, 55, 9]\n",
      "Sum function 95\n",
      "[1, 22, 5, 3, 55, 9]\n",
      "Multiplication function 163350\n"
     ]
    }
   ],
   "source": [
    "def myreduce(func,li):\n",
    "    result=li[0]\n",
    "    print(li)\n",
    "    for i in li[1:]:\n",
    "        result = func(result, i)\n",
    "    return result\n",
    "\n",
    "def sum(x,y): return x + y\n",
    "def mul(x,y): return x * y\n",
    "\n",
    "print (\"Sum function \"   + str(myreduce(sum, [1,22,5,3,55,9])) )\n",
    "print (\"Multiplication function \"   + str(myreduce(mul, [1,22,5,3,55,9])) )\n"
   ]
  },
  {
   "cell_type": "markdown",
   "metadata": {},
   "source": [
    "1.2 Write a Python program to implement your own myfilter() function which works exactly like\n",
    "Python's built-in function filter()"
   ]
  },
  {
   "cell_type": "code",
   "execution_count": 28,
   "metadata": {},
   "outputs": [
    {
     "name": "stdout",
     "output_type": "stream",
     "text": [
      "Actual list [1, 8, 6, 4, 22, 5, 3, 55, 9]\n",
      "Even check list [8, 6, 4, 22]\n"
     ]
    }
   ],
   "source": [
    "li=[1, 8,6,4,22, 5, 3, 55, 9]\n",
    "result=[]\n",
    "print('Actual list',li)\n",
    "def myfilter(func,li):\n",
    "    for i in li:\n",
    "        res = func(i)\n",
    "        if res==True:\n",
    "            result.append(i)\n",
    "    return result\n",
    "\n",
    "def even_check(num): \n",
    "    if num%2==0: \n",
    "        return True\n",
    "\n",
    "print (\"Even check list \"   + str(myfilter(even_check,li)) )\n"
   ]
  },
  {
   "cell_type": "markdown",
   "metadata": {},
   "source": [
    "2.  Implement List comprehensions to produce the following lists.\n",
    "Write List comprehensions to produce the following Lists\n",
    "['A', 'C', 'A', 'D', 'G', 'I', ’L’, ‘ D’] "
   ]
  },
  {
   "cell_type": "code",
   "execution_count": 30,
   "metadata": {},
   "outputs": [
    {
     "name": "stdout",
     "output_type": "stream",
     "text": [
      "List consists of ['A', 'C', 'A', 'D', 'G', 'I', 'L', 'D']\n"
     ]
    }
   ],
   "source": [
    "word = \"ACADGILD\"\n",
    "alp_list = [ i for i in word ]\n",
    "print(\"List consists of \" + str(alp_list))"
   ]
  },
  {
   "cell_type": "markdown",
   "metadata": {},
   "source": [
    "Question:  ['x', 'xx', 'xxx', 'xxxx', 'y', 'yy', 'yyy', 'yyyy', 'z', 'zz', 'zzz', 'zzzz']"
   ]
  },
  {
   "cell_type": "code",
   "execution_count": 2,
   "metadata": {},
   "outputs": [
    {
     "name": "stdout",
     "output_type": "stream",
     "text": [
      "['x', 'xx', 'xxx', 'xxxx', 'y', 'yy', 'yyy', 'yyyy', 'z', 'zz', 'zzz', 'zzzz']\n"
     ]
    }
   ],
   "source": [
    "l=['x','y','z']\n",
    "items=[i*j for i in l for j in range(1,5)]\n",
    "print(items)"
   ]
  },
  {
   "cell_type": "markdown",
   "metadata": {},
   "source": [
    "Question: ['x', 'y', 'z', 'xx', 'yy', 'zz', 'xx', 'yy', 'zz', 'xxxx', 'yyyy', 'zzzz']"
   ]
  },
  {
   "cell_type": "code",
   "execution_count": 4,
   "metadata": {},
   "outputs": [
    {
     "name": "stdout",
     "output_type": "stream",
     "text": [
      "['x', 'y', 'z', 'xx', 'yy', 'zz', 'xxx', 'yyy', 'zzz', 'xxxx', 'yyyy', 'zzzz']\n"
     ]
    }
   ],
   "source": [
    "l=['x','y','z']\n",
    "items=[i*num for num in range(2,5) for i in l]\n",
    "print(l+items)"
   ]
  },
  {
   "cell_type": "markdown",
   "metadata": {},
   "source": [
    "Question: [[2], [3], [4], [3], [4], [5], [4], [5], [6]]"
   ]
  },
  {
   "cell_type": "code",
   "execution_count": 5,
   "metadata": {},
   "outputs": [
    {
     "name": "stdout",
     "output_type": "stream",
     "text": [
      "[[2], [3], [4], [3], [4], [5], [4], [5], [6]]\n"
     ]
    }
   ],
   "source": [
    "this_list = [2,3,4]\n",
    "items=[[i+num] for num in range(0,3) for i in this_list ]\n",
    "print(items)"
   ]
  },
  {
   "cell_type": "markdown",
   "metadata": {},
   "source": [
    "Question: [[2, 3, 4, 5], [3, 4, 5, 6], [4, 5, 6, 7], [5, 6, 7, 8]]"
   ]
  },
  {
   "cell_type": "code",
   "execution_count": 29,
   "metadata": {},
   "outputs": [
    {
     "name": "stdout",
     "output_type": "stream",
     "text": [
      "[[2, 3, 4, 5], [3, 4, 5, 6], [4, 5, 6, 7], [5, 6, 7, 8]]\n"
     ]
    }
   ],
   "source": [
    "this_list = [2,3,4,5]\n",
    "items=[[i+num for num in range(0,4)] for i in this_list ]\n",
    "print(items)"
   ]
  },
  {
   "cell_type": "markdown",
   "metadata": {},
   "source": [
    "Question: [(1, 1), (2, 1), (3, 1), (1, 2), (2, 2), (3, 2), (1, 3), (2, 3), (3, 3)]"
   ]
  },
  {
   "cell_type": "code",
   "execution_count": 3,
   "metadata": {},
   "outputs": [
    {
     "name": "stdout",
     "output_type": "stream",
     "text": [
      "[(1, 1), (2, 1), (3, 1), (1, 2), (2, 2), (3, 2), (1, 3), (2, 3), (3, 3)]\n"
     ]
    }
   ],
   "source": [
    "this_list = [1,2,3]\n",
    "items=[(b,a) for a in this_list for b in this_list]\n",
    "print(items)"
   ]
  },
  {
   "cell_type": "markdown",
   "metadata": {},
   "source": [
    "3. Implement a function longestWord() that takes a list of words and returns the longest one."
   ]
  },
  {
   "cell_type": "code",
   "execution_count": 31,
   "metadata": {},
   "outputs": [
    {
     "name": "stdout",
     "output_type": "stream",
     "text": [
      "gggssstttpolk\n"
     ]
    }
   ],
   "source": [
    "def longestWord(this_list):\n",
    "    max=0\n",
    "    index=''\n",
    "    for word in this_list:\n",
    "        if len(word)>max:\n",
    "            max=len(word)\n",
    "            index= word\n",
    "    return index\n",
    "\n",
    "this_list=['sande', 'dsssss','dddeeeppp','gggssstttpolk','l']\n",
    "word=longestWord(this_list)\n",
    "print(word)"
   ]
  },
  {
   "cell_type": "markdown",
   "metadata": {},
   "source": [
    "# Task 2:"
   ]
  },
  {
   "cell_type": "markdown",
   "metadata": {},
   "source": [
    "1.1  Write a Python Program(with class concepts) to find the area of the triangle using the below\n",
    "formula.\n",
    "area = (s*(s-a)*(s-b)*(s-c)) ** 0.5\n",
    "Function to take the length of the sides of triangle from user should be defined in the parent\n",
    "class and function to calculate the area should be defined in subclass."
   ]
  },
  {
   "cell_type": "code",
   "execution_count": 25,
   "metadata": {},
   "outputs": [
    {
     "name": "stdout",
     "output_type": "stream",
     "text": [
      "Enter values for length 6\n",
      "Enter values for bredth 8\n",
      "Enter values for height 12\n",
      "21.330729007701542\n"
     ]
    }
   ],
   "source": [
    "class Area_triangle:\n",
    "    def __init__(self,a,b,c):\n",
    "        self.a=a\n",
    "        self.b=b\n",
    "        self.c=c\n",
    "\n",
    "class Calculate(Area_triangle):\n",
    "    def __init__(self, *args):\n",
    "        super(Calculate, self).__init__(*args)\n",
    "        \n",
    "    def area_tri(self):\n",
    "        s = (self.a + self.b + self.c )/ 2\n",
    "        area = (s*(s-self.a)*(s-self.b)*(s-self.c)) ** 0.5\n",
    "        print(area)\n",
    "        \n",
    "length=int(input(\"Enter values for length \"))\n",
    "breadth=int(input(\"Enter values for bredth \"))\n",
    "height=int(input(\"Enter values for height \"))\n",
    "\n",
    "Area=Calculate(length, breadth, height)\n",
    "Area.area_tri()"
   ]
  },
  {
   "cell_type": "markdown",
   "metadata": {},
   "source": [
    "1.2  Write a function filter_long_words() that takes a list of words and an integer n and returns the list\n",
    "of words that are longer than n."
   ]
  },
  {
   "cell_type": "code",
   "execution_count": 26,
   "metadata": {},
   "outputs": [
    {
     "name": "stdout",
     "output_type": "stream",
     "text": [
      "The Result list has ['literature']\n"
     ]
    }
   ],
   "source": [
    "li=['Contrary','to','popular','belief', 'Ipsum','is','random','text','It','has','roots','piece','classical','literature']\n",
    "n=9\n",
    "new_list=[]\n",
    "def filter_long_words(li,n):\n",
    "    for i in li:\n",
    "        if len(i)>n:\n",
    "            new_list.append(i)\n",
    "    return new_list    \n",
    " \n",
    "print(\"The Result list has\",filter_long_words(li,n))"
   ]
  },
  {
   "cell_type": "markdown",
   "metadata": {},
   "source": [
    "2.1  Write a Python program using function concept that maps list of words into a list of integers\n",
    "representing the lengths of the corresponding words .\n",
    "Hint: If a list [ ab,cde,erty] is passed on to the python function output should come as [2,3,4]\n",
    "Here 2,3 and 4 are the lengths of the words in the list."
   ]
  },
  {
   "cell_type": "code",
   "execution_count": 27,
   "metadata": {},
   "outputs": [
    {
     "name": "stdout",
     "output_type": "stream",
     "text": [
      "The length of each word is  [8, 2, 7, 6, 5, 2]\n"
     ]
    }
   ],
   "source": [
    "new_list=['Contrary','to','popular','belief', 'Ipsum','is']\n",
    "\n",
    "def list_integers(li):\n",
    "    result=[]\n",
    "    for i in li:\n",
    "        result.append(len(i))\n",
    "    print('The length of each word is ',result)\n",
    "        \n",
    "list_integers(new_list)\n"
   ]
  },
  {
   "cell_type": "markdown",
   "metadata": {},
   "source": [
    "2.2  Write a Python function which takes a character (i.e. a string of length 1) and returns True if it is\n",
    "a vowel, False otherwise."
   ]
  },
  {
   "cell_type": "code",
   "execution_count": 20,
   "metadata": {},
   "outputs": [
    {
     "name": "stdout",
     "output_type": "stream",
     "text": [
      "Enter a character to verify its a VOWEL or NOT: s\n",
      "character 's' is not a vowel\n"
     ]
    }
   ],
   "source": [
    "all_vowels = 'aeiouAEIOU'\n",
    "def is_vowel(letter):\n",
    "    if letter in li:\n",
    "        return True\n",
    "    else:\n",
    "        return False\n",
    "        \n",
    "letter=input('Enter a character to verify its a VOWEL or NOT: ')\n",
    "if ((letter.isalpha()) == True) and (len(letter)==1):\n",
    "    result=is_vowel(letter)\n",
    "    if result== True:\n",
    "        print('character \\''+ letter +'\\' is a vowel')\n",
    "    else:\n",
    "        print('character \\''+ letter +'\\' is not a vowel')\n",
    "else:\n",
    "    print('WRONG INPUT')"
   ]
  }
 ],
 "metadata": {
  "kernelspec": {
   "display_name": "Python 3",
   "language": "python",
   "name": "python3"
  },
  "language_info": {
   "codemirror_mode": {
    "name": "ipython",
    "version": 3
   },
   "file_extension": ".py",
   "mimetype": "text/x-python",
   "name": "python",
   "nbconvert_exporter": "python",
   "pygments_lexer": "ipython3",
   "version": "3.7.6"
  }
 },
 "nbformat": 4,
 "nbformat_minor": 4
}
